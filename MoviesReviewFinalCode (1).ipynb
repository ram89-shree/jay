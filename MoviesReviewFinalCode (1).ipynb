{
 "cells": [
  {
   "cell_type": "code",
   "execution_count": 105,
   "id": "a7a145c9-3092-4d1a-a4ea-c5473f7ea275",
   "metadata": {},
   "outputs": [],
   "source": [
    "import pandas as pd\n",
    "import numpy as np\n",
    "from tensorflow.keras.preprocessing.text import Tokenizer\n",
    "from tensorflow.keras.preprocessing.sequence import pad_sequences\n",
    "from tensorflow.keras.models import Sequential\n",
    "from tensorflow.keras.layers import Embedding, Flatten, Dense\n",
    "from sklearn.model_selection import train_test_split\n"
   ]
  },
  {
   "cell_type": "code",
   "execution_count": 107,
   "id": "6761dd11-7383-49f8-a9f8-ede4fc950f15",
   "metadata": {},
   "outputs": [],
   "source": [
    "# 1. Load the IMDB dataset (assumes CSV format)\n",
    "df = pd.read_csv('IMDB Dataset - IMDB Dataset.csv')"
   ]
  },
  {
   "cell_type": "code",
   "execution_count": 109,
   "id": "7847e00c-0d73-41c7-bc9e-9b0ca333cefa",
   "metadata": {},
   "outputs": [],
   "source": [
    "# 2. Map the 'sentiment' column to binary values (0 = negative, 1 = positive)\n",
    "df['sentiment'] = df['sentiment'].map({'negative': 0, 'positive': 1})\n"
   ]
  },
  {
   "cell_type": "code",
   "execution_count": 111,
   "id": "ad464f5a-0723-4559-bb20-c7f18250f4e2",
   "metadata": {},
   "outputs": [],
   "source": [
    "# 3. Split the dataset into training and testing sets\n",
    "train_texts, test_texts, train_labels, test_labels = train_test_split(\n",
    "    df['review'], df['sentiment'], test_size=0.2, random_state=42)"
   ]
  },
  {
   "cell_type": "code",
   "execution_count": 113,
   "id": "dff5c0c1-bc57-4080-b40d-87559dcca951",
   "metadata": {},
   "outputs": [],
   "source": [
    "# 4. Ensure labels are integers\n",
    "train_labels = train_labels.astype(int)\n",
    "test_labels = test_labels.astype(int)"
   ]
  },
  {
   "cell_type": "code",
   "execution_count": 115,
   "id": "7b0ab7a6-975a-4a08-82ce-9a9e557f523f",
   "metadata": {},
   "outputs": [],
   "source": [
    "# 5. Tokenization and padding\n",
    "max_words = 10000\n",
    "max_len = 200"
   ]
  },
  {
   "cell_type": "code",
   "execution_count": 117,
   "id": "c26cb8e3-bdd7-4cf4-b7bd-089063852113",
   "metadata": {},
   "outputs": [],
   "source": [
    "tokenizer = Tokenizer(num_words=max_words)\n",
    "tokenizer.fit_on_texts(train_texts)\n"
   ]
  },
  {
   "cell_type": "code",
   "execution_count": 118,
   "id": "8131358f-068c-43e1-9cca-ac184f0e2230",
   "metadata": {},
   "outputs": [],
   "source": [
    "x_train_seq = tokenizer.texts_to_sequences(train_texts)\n",
    "x_test_seq = tokenizer.texts_to_sequences(test_texts)\n"
   ]
  },
  {
   "cell_type": "code",
   "execution_count": 119,
   "id": "b44cb00f-fb8b-4133-bf1e-879a26e1b54f",
   "metadata": {},
   "outputs": [],
   "source": [
    "x_train_pad = pad_sequences(x_train_seq, maxlen=max_len)\n",
    "x_test_pad = pad_sequences(x_test_seq, maxlen=max_len)"
   ]
  },
  {
   "cell_type": "code",
   "execution_count": 120,
   "id": "ccb80803-c964-45d5-9caf-e2fcf1900673",
   "metadata": {},
   "outputs": [],
   "source": [
    "train_labels = np.array(train_labels)\n",
    "test_labels = np.array(test_labels)\n"
   ]
  },
  {
   "cell_type": "code",
   "execution_count": 121,
   "id": "dfad04db-d9f2-4b1f-b9b8-1a3243d769cc",
   "metadata": {},
   "outputs": [
    {
     "name": "stderr",
     "output_type": "stream",
     "text": [
      "C:\\Users\\Sakshi\\anaconda3\\Lib\\site-packages\\keras\\src\\layers\\core\\embedding.py:90: UserWarning: Argument `input_length` is deprecated. Just remove it.\n",
      "  warnings.warn(\n"
     ]
    }
   ],
   "source": [
    "# 4. Build the model\n",
    "model = Sequential([\n",
    "    Embedding(input_dim=max_words, output_dim=32, input_length=max_len),\n",
    "    Flatten(),\n",
    "    Dense(64, activation='relu'),\n",
    "    Dense(1, activation='sigmoid')  # Binary classification\n",
    "])"
   ]
  },
  {
   "cell_type": "code",
   "execution_count": 123,
   "id": "b6a81dbe-d5c0-4a56-8652-8c60afbfb8ec",
   "metadata": {},
   "outputs": [],
   "source": [
    "# 5. Compile and train the model\n",
    "model.compile(optimizer='adam', loss='binary_crossentropy', metrics=['accuracy'])\n",
    "#model.fit(x_train_pad, train_labels, epochs=5, batch_size=128, validation_split=0.2)"
   ]
  },
  {
   "cell_type": "code",
   "execution_count": 124,
   "id": "3d056121-4ecc-4cd9-9ada-8a63c1549e3c",
   "metadata": {},
   "outputs": [
    {
     "name": "stdout",
     "output_type": "stream",
     "text": [
      "Epoch 1/5\n",
      "\u001b[1m250/250\u001b[0m \u001b[32m━━━━━━━━━━━━━━━━━━━━\u001b[0m\u001b[37m\u001b[0m \u001b[1m7s\u001b[0m 21ms/step - accuracy: 0.6561 - loss: 0.5693 - val_accuracy: 0.8676 - val_loss: 0.3049\n",
      "Epoch 2/5\n",
      "\u001b[1m250/250\u001b[0m \u001b[32m━━━━━━━━━━━━━━━━━━━━\u001b[0m\u001b[37m\u001b[0m \u001b[1m10s\u001b[0m 20ms/step - accuracy: 0.9388 - loss: 0.1708 - val_accuracy: 0.8759 - val_loss: 0.3061\n",
      "Epoch 3/5\n",
      "\u001b[1m250/250\u001b[0m \u001b[32m━━━━━━━━━━━━━━━━━━━━\u001b[0m\u001b[37m\u001b[0m \u001b[1m5s\u001b[0m 19ms/step - accuracy: 0.9894 - loss: 0.0498 - val_accuracy: 0.8658 - val_loss: 0.3801\n",
      "Epoch 4/5\n",
      "\u001b[1m250/250\u001b[0m \u001b[32m━━━━━━━━━━━━━━━━━━━━\u001b[0m\u001b[37m\u001b[0m \u001b[1m5s\u001b[0m 20ms/step - accuracy: 0.9981 - loss: 0.0109 - val_accuracy: 0.8655 - val_loss: 0.4357\n",
      "Epoch 5/5\n",
      "\u001b[1m250/250\u001b[0m \u001b[32m━━━━━━━━━━━━━━━━━━━━\u001b[0m\u001b[37m\u001b[0m \u001b[1m5s\u001b[0m 20ms/step - accuracy: 0.9999 - loss: 0.0029 - val_accuracy: 0.8681 - val_loss: 0.4700\n"
     ]
    },
    {
     "data": {
      "text/plain": [
       "<keras.src.callbacks.history.History at 0x2ac235f3b60>"
      ]
     },
     "execution_count": 124,
     "metadata": {},
     "output_type": "execute_result"
    }
   ],
   "source": [
    "model.fit(x_train_pad, train_labels, epochs=5, batch_size=128, validation_split=0.2)"
   ]
  },
  {
   "cell_type": "code",
   "execution_count": 131,
   "id": "cce39b88-16bd-491e-bd6a-595bb116c477",
   "metadata": {},
   "outputs": [
    {
     "name": "stdout",
     "output_type": "stream",
     "text": [
      "\u001b[1m313/313\u001b[0m \u001b[32m━━━━━━━━━━━━━━━━━━━━\u001b[0m\u001b[37m\u001b[0m \u001b[1m2s\u001b[0m 5ms/step - accuracy: 0.8698 - loss: 0.4438\n",
      "Test Accuracy: 0.8711\n"
     ]
    }
   ],
   "source": [
    "loss, accuracy = model.evaluate(x_test_pad, test_labels)\n",
    "print(f'Test Accuracy: {accuracy:.4f}')"
   ]
  },
  {
   "cell_type": "code",
   "execution_count": null,
   "id": "27e36565-5bf3-4503-be3f-95e552e39c3b",
   "metadata": {},
   "outputs": [],
   "source": []
  }
 ],
 "metadata": {
  "kernelspec": {
   "display_name": "Python [conda env:base] *",
   "language": "python",
   "name": "conda-base-py"
  },
  "language_info": {
   "codemirror_mode": {
    "name": "ipython",
    "version": 3
   },
   "file_extension": ".py",
   "mimetype": "text/x-python",
   "name": "python",
   "nbconvert_exporter": "python",
   "pygments_lexer": "ipython3",
   "version": "3.12.7"
  }
 },
 "nbformat": 4,
 "nbformat_minor": 5
}
